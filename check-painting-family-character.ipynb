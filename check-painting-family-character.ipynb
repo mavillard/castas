{
 "metadata": {
  "name": "check-painting-family-character"
 },
 "nbformat": 3,
 "nbformat_minor": 0,
 "worksheets": [
  {
   "cells": [
    {
     "cell_type": "heading",
     "level": 3,
     "metadata": {},
     "source": [
      "Libraries"
     ]
    },
    {
     "cell_type": "code",
     "collapsed": false,
     "input": [
      "import networkx as nx"
     ],
     "language": "python",
     "metadata": {},
     "outputs": [],
     "prompt_number": 9
    },
    {
     "cell_type": "heading",
     "level": 3,
     "metadata": {},
     "source": [
      "Definitions"
     ]
    },
    {
     "cell_type": "code",
     "collapsed": false,
     "input": [
      "# Attribute dictionary\n",
      "a = {\n",
      "    # schema\n",
      "    'type': u'[Schema] Type', # node type\n",
      "    'label': u'label', # relationship name\n",
      "    # node types\n",
      "    'action': u'Action',\n",
      "    'character': u'Character',\n",
      "    'family': u'Family',\n",
      "    'painting': u'Painting',\n",
      "    'setting': u'Setting',\n",
      "    #relation labels\n",
      "    'depict': u'depict',\n",
      "    'depicts': u'depicts',\n",
      "    # node attributes\n",
      "    'casta': u'(Character) Casta',\n",
      "    'male': u'(Character) Male',\n",
      "    'female': u'(Character) Female',\n",
      "    # relation attributes\n",
      "    'doing': u'doing',\n",
      "    'receiving': u'received by',\n",
      "    # values\n",
      "    'espanol': u'Espa\\xf1ol ',\n",
      "    'true': u'True',\n",
      "}"
     ],
     "language": "python",
     "metadata": {},
     "outputs": [
      {
       "ename": "SyntaxError",
       "evalue": "invalid syntax (<ipython-input-10-0d5048faa739>, line 10)",
       "output_type": "pyerr",
       "traceback": [
        "\u001b[0;36m  File \u001b[0;32m\"<ipython-input-10-0d5048faa739>\"\u001b[0;36m, line \u001b[0;32m10\u001b[0m\n\u001b[0;31m    'painting': u'Painting',\u001b[0m\n\u001b[0m              ^\u001b[0m\n\u001b[0;31mSyntaxError\u001b[0m\u001b[0;31m:\u001b[0m invalid syntax\n"
       ]
      }
     ],
     "prompt_number": 10
    },
    {
     "cell_type": "heading",
     "level": 3,
     "metadata": {},
     "source": [
      "Auxiliar methods"
     ]
    },
    {
     "cell_type": "code",
     "collapsed": false,
     "input": [
      "def filter_relations_by_label(relations, label_value):\n",
      "    label_name = a['label']\n",
      "    \n",
      "    relations_aux = {}\n",
      "    for node, attrs in relations.iteritems():\n",
      "        if label_name in attrs and attrs[label_name] == label_value:\n",
      "            relations_aux[node] = attrs\n",
      "    return relations_aux\n",
      "\n",
      "def filter_relations_by_type(graph, relations, type_value):\n",
      "    type_name = a['type']\n",
      "    \n",
      "    relations_aux = {}\n",
      "    for node, attrs in relations.iteritems():\n",
      "        node_attrs = graph.node[node]\n",
      "        if type_name in node_attrs and node_attrs[type_name] == type_value:\n",
      "            relations_aux[node] = attrs\n",
      "    return relations_aux\n",
      "\n",
      "def to_unicode(s):\n",
      "    result = s\n",
      "    if type(s) != unicode:\n",
      "        result = s.decode('utf-8')\n",
      "    return result\n",
      "\n",
      "def equalize_dict(keys, data_dict):\n",
      "    for key in keys:\n",
      "        if key not in data_dict:\n",
      "            data_dict[key] = 0\n",
      "    return data_dict"
     ],
     "language": "python",
     "metadata": {},
     "outputs": [],
     "prompt_number": 4
    },
    {
     "cell_type": "heading",
     "level": 3,
     "metadata": {},
     "source": [
      "API"
     ]
    },
    {
     "cell_type": "code",
     "collapsed": false,
     "input": [
      "def node_dict_by_type(nbunch):\n",
      "    typ = a['type']\n",
      "    \n",
      "    nodes = {}\n",
      "    if type(nbunch) == nx.classes.multidigraph.DiGraph:\n",
      "        nbunch = nbunch.nodes_iter(data=True)\n",
      "    for node, attrs in nbunch:\n",
      "        node_type = attrs[typ]\n",
      "        nodes.setdefault(node_type, [])\n",
      "        nodes[node_type].append((node, attrs))\n",
      "    return nodes\n",
      "\n",
      "def node_dict_by_attr(nbunch, attr):\n",
      "    nodes = {}\n",
      "    if type(nbunch) == nx.classes.multidigraph.DiGraph:\n",
      "        nbunch = nbunch.nodes_iter(data=True)\n",
      "    for node, attrs in nbunch:\n",
      "        if attr in attrs:\n",
      "            value = attrs[attr]\n",
      "            nodes.setdefault(value, [])\n",
      "            nodes[value].append((node, attrs))\n",
      "    return nodes\n",
      "\n",
      "def freq_dict(nbunch):\n",
      "    freqs = {}\n",
      "    for key in nbunch.iterkeys():\n",
      "        freqs[key] = len(nbunch[key])\n",
      "    return freqs\n",
      "\n",
      "def node_neighbor_list(node, graph, attr=None, value=None, label=None, typ=None):\n",
      "    if attr and value:\n",
      "        value = to_unicode(value)\n",
      "    neighbors = []\n",
      "    relations = graph[node]\n",
      "    if label:\n",
      "        relations = filter_relations_by_label(relations, label)\n",
      "    if typ:\n",
      "        relations = filter_relations_by_type(graph, relations, typ)\n",
      "    neighbors_attrs = [(n, graph.node[n]) for n in relations]\n",
      "    for neighbor_attrs in neighbors_attrs:\n",
      "        attrs = neighbor_attrs[1]\n",
      "        if attr and value:\n",
      "            if attr in attrs:\n",
      "                val = attrs[attr]\n",
      "                val = to_unicode(val)\n",
      "                if val == value:\n",
      "                    neighbors.append(neighbor_attrs)\n",
      "        else:\n",
      "            neighbors.append(neighbor_attrs)\n",
      "    return neighbors\n",
      "\n",
      "def filter_node_dict_by_value(nbunch, attr, value):\n",
      "    nodes = []\n",
      "    if type(nbunch) == nx.classes.multidigraph.DiGraph:\n",
      "        nbunch = nbunch.nodes_iter(data=True)\n",
      "    for node, attrs in nbunch:\n",
      "        if attr in attrs:\n",
      "            val = attrs[attr]\n",
      "            if val == value:\n",
      "                nodes.append((node, attrs))\n",
      "    return nodes"
     ],
     "language": "python",
     "metadata": {},
     "outputs": [],
     "prompt_number": 5
    },
    {
     "cell_type": "heading",
     "level": 3,
     "metadata": {},
     "source": [
      "Graph"
     ]
    },
    {
     "cell_type": "code",
     "collapsed": false,
     "input": [
      "castas = nx.read_gexf('castas.gexf')"
     ],
     "language": "python",
     "metadata": {},
     "outputs": [],
     "prompt_number": 6
    },
    {
     "cell_type": "heading",
     "level": 2,
     "metadata": {},
     "source": [
      "Painting-Family-Character"
     ]
    },
    {
     "cell_type": "heading",
     "level": 3,
     "metadata": {},
     "source": [
      "Families by painting"
     ]
    },
    {
     "cell_type": "code",
     "collapsed": false,
     "input": [
      "families_by_painting = {}\n",
      "paintings = map(lambda x: x[0], node_dict_by_type(castas)[a['painting']])\n",
      "for painting in paintings:\n",
      "    family_neighbors = node_neighbor_list(\n",
      "        painting,\n",
      "        castas,\n",
      "        typ=a['family'],\n",
      "    )\n",
      "    families_by_painting[painting] = family_neighbors\n",
      "freq_families_by_painting = freq_dict(families_by_painting)"
     ],
     "language": "python",
     "metadata": {},
     "outputs": [
      {
       "ename": "KeyError",
       "evalue": "'family'",
       "output_type": "pyerr",
       "traceback": [
        "\u001b[0;31m---------------------------------------------------------------------------\u001b[0m\n\u001b[0;31mKeyError\u001b[0m                                  Traceback (most recent call last)",
        "\u001b[0;32m<ipython-input-7-0489e424e967>\u001b[0m in \u001b[0;36m<module>\u001b[0;34m()\u001b[0m\n\u001b[1;32m      5\u001b[0m         \u001b[0mpainting\u001b[0m\u001b[0;34m,\u001b[0m\u001b[0;34m\u001b[0m\u001b[0m\n\u001b[1;32m      6\u001b[0m         \u001b[0mcastas\u001b[0m\u001b[0;34m,\u001b[0m\u001b[0;34m\u001b[0m\u001b[0m\n\u001b[0;32m----> 7\u001b[0;31m         \u001b[0mtyp\u001b[0m\u001b[0;34m=\u001b[0m\u001b[0ma\u001b[0m\u001b[0;34m[\u001b[0m\u001b[0;34m'family'\u001b[0m\u001b[0;34m]\u001b[0m\u001b[0;34m,\u001b[0m\u001b[0;34m\u001b[0m\u001b[0m\n\u001b[0m\u001b[1;32m      8\u001b[0m     )\n\u001b[1;32m      9\u001b[0m     \u001b[0mfamilies_by_painting\u001b[0m\u001b[0;34m[\u001b[0m\u001b[0mpainting\u001b[0m\u001b[0;34m]\u001b[0m \u001b[0;34m=\u001b[0m \u001b[0mfamily_neighbors\u001b[0m\u001b[0;34m\u001b[0m\u001b[0m\n",
        "\u001b[0;31mKeyError\u001b[0m: 'family'"
       ]
      }
     ],
     "prompt_number": 7
    },
    {
     "cell_type": "heading",
     "level": 3,
     "metadata": {},
     "source": [
      "Characters by family by painting"
     ]
    },
    {
     "cell_type": "code",
     "collapsed": false,
     "input": [
      "characters_by_family_by_painting = {}\n",
      "for painting in families_by_painting:\n",
      "    characters_by_family_by_painting.setdefault(painting, [])\n",
      "    for family in families_by_painting[painting]:\n",
      "        character_neighbors = node_neighbor_list(\n",
      "            family[0],\n",
      "            castas,\n",
      "            typ=a['character'],\n",
      "        )\n",
      "        characters_by_family_by_painting[painting].extend(character_neighbors)\n",
      "    print character_neighbors\n",
      "    #print characters_by_family_by_painting[painting]\n",
      "    break\n",
      "freq_characters_by_family_by_painting = freq_dict(characters_by_family_by_painting)"
     ],
     "language": "python",
     "metadata": {},
     "outputs": [],
     "prompt_number": 8
    },
    {
     "cell_type": "code",
     "collapsed": false,
     "input": [],
     "language": "python",
     "metadata": {},
     "outputs": []
    }
   ],
   "metadata": {}
  }
 ]
}