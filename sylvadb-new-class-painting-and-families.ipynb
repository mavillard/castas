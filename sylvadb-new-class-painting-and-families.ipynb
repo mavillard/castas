{
 "metadata": {
  "name": "sylvadb-new-class-painting-and-families"
 },
 "nbformat": 3,
 "nbformat_minor": 0,
 "worksheets": [
  {
   "cells": [
    {
     "cell_type": "heading",
     "level": 2,
     "metadata": {},
     "source": [
      "Preliminaries"
     ]
    },
    {
     "cell_type": "code",
     "collapsed": false,
     "input": [
      "import networkx as nx"
     ],
     "language": "python",
     "metadata": {},
     "outputs": [],
     "prompt_number": 29
    },
    {
     "cell_type": "code",
     "collapsed": false,
     "input": [
      "def new_id(s):\n",
      "    return '9' + s\n",
      "\n",
      "def invert_id(s):\n",
      "    return s[1:]\n",
      "\n",
      "def inc_id(s):\n",
      "    return str(int(s) + 1)"
     ],
     "language": "python",
     "metadata": {},
     "outputs": [],
     "prompt_number": 30
    },
    {
     "cell_type": "code",
     "collapsed": false,
     "input": [
      "def node_dict_by_type(nbunch):\n",
      "    nodes = {}\n",
      "    print nbunch\n",
      "    if type(nbunch) == nx.classes.multidigraph.DiGraph:\n",
      "        nbunch = nbunch.nodes_iter(data=True)\n",
      "    for node, attrs in nbunch:\n",
      "        node_type = attrs[u'[Schema] Type']\n",
      "        nodes.setdefault(node_type, [])\n",
      "        nodes[node_type].append((node, attrs))\n",
      "    return nodes\n",
      "\n",
      "def node_neighbor_list(node, graph, attr=None, value=None, label=None, typ=None):\n",
      "    if attr and value:\n",
      "        value = to_unicode(value)\n",
      "    neighbors = []\n",
      "    relations = graph[node]\n",
      "    if label:\n",
      "        relations = filter_relations_by_label(relations, label)\n",
      "    if typ:\n",
      "        relations = filter_relations_by_type(graph, relations, typ)\n",
      "    neighbors_attrs = [(n, graph.node[n]) for n in relations]\n",
      "    for neighbor_attrs in neighbors_attrs:\n",
      "        attrs = neighbor_attrs[1]\n",
      "        if attr and value:\n",
      "            if attr in attrs:\n",
      "                val = attrs[attr]\n",
      "                val = to_unicode(val)\n",
      "                if val == value:\n",
      "                    neighbors.append(neighbor_attrs)\n",
      "        else:\n",
      "            neighbors.append(neighbor_attrs)\n",
      "    return neighbors\n",
      "\n",
      "def filter_relations_by_label(relations, label_value):\n",
      "    label_name = u'label'\n",
      "    \n",
      "    relations_aux = {}\n",
      "    for node, attrs in relations.iteritems():\n",
      "        if label_name in attrs and attrs[label_name] == label_value:\n",
      "            relations_aux[node] = attrs\n",
      "    return relations_aux\n",
      "\n",
      "def filter_relations_by_type(graph, relations, type_value):\n",
      "    type_name = u'[Schema] Type'\n",
      "    \n",
      "    relations_aux = {}\n",
      "    for node, attrs in relations.iteritems():\n",
      "        node_attrs = graph.node[node]\n",
      "        if type_name in node_attrs and node_attrs[type_name] == type_value:\n",
      "            relations_aux[node] = attrs\n",
      "    return relations_aux"
     ],
     "language": "python",
     "metadata": {},
     "outputs": [],
     "prompt_number": 31
    },
    {
     "cell_type": "code",
     "collapsed": false,
     "input": [
      "old_castas = nx.read_gexf('castas.gexf')\n",
      "new_castas = nx.read_gexf('castas.gexf')"
     ],
     "language": "python",
     "metadata": {},
     "outputs": [],
     "prompt_number": 32
    },
    {
     "cell_type": "heading",
     "level": 2,
     "metadata": {},
     "source": [
      "Modifying graph"
     ]
    },
    {
     "cell_type": "heading",
     "level": 3,
     "metadata": {},
     "source": [
      "0. Id ranges"
     ]
    },
    {
     "cell_type": "code",
     "collapsed": false,
     "input": [
      "nodes = old_castas.nodes(data=True)\n",
      "node_ids = sorted(map(lambda x: int(x[0]), nodes))\n",
      "node_type_ids = sorted(map(lambda x: int(x[1]['[Schema] Type Id']), nodes))"
     ],
     "language": "python",
     "metadata": {},
     "outputs": [],
     "prompt_number": 33
    },
    {
     "cell_type": "code",
     "collapsed": false,
     "input": [
      "edges = old_castas.edges(data=True)\n",
      "relation_ids = sorted(map(lambda x: int(x[2]['id']), edges))\n",
      "relation_type_ids = sorted(map(lambda x: int(x[2]['[Schema] Allowed Relationship Id']), edges))"
     ],
     "language": "python",
     "metadata": {},
     "outputs": [],
     "prompt_number": 34
    },
    {
     "cell_type": "code",
     "collapsed": false,
     "input": [
      "last_node_id = node_ids[-1]\n",
      "last_node_type_id = node_type_ids[-1]\n",
      "last_relation_id = relation_ids[-1]\n",
      "last_relation_type_id = relation_type_ids[-1]"
     ],
     "language": "python",
     "metadata": {},
     "outputs": [],
     "prompt_number": 35
    },
    {
     "cell_type": "code",
     "collapsed": false,
     "input": [
      "print 'node ids:', node_ids[0], node_ids[-1]\n",
      "print 'node type ids:', node_type_ids[0], node_type_ids[-1]\n",
      "print 'relation ids:', relation_ids[0], relation_ids[-1]\n",
      "print 'relation type ids:', relation_type_ids[0], relation_type_ids[-1]"
     ],
     "language": "python",
     "metadata": {},
     "outputs": [
      {
       "output_type": "stream",
       "stream": "stdout",
       "text": [
        "node ids: 15067 19945\n",
        "node type ids: 811 834\n",
        "relation ids: 15405 24478\n",
        "relation type ids: 1127 1145\n"
       ]
      }
     ],
     "prompt_number": 36
    },
    {
     "cell_type": "code",
     "collapsed": false,
     "input": [
      "new_node_id = new_id(last_node_id)\n",
      "new_node_type_id = new_id(last_node_type_id)\n",
      "new_relation_id = new_id(last_relation_id)\n",
      "new_relation_type_id = new_id(last_relation_type_id)"
     ],
     "language": "python",
     "metadata": {},
     "outputs": [],
     "prompt_number": 41
    },
    {
     "cell_type": "heading",
     "level": 3,
     "metadata": {},
     "source": [
      "1. Creating Frames"
     ]
    },
    {
     "cell_type": "code",
     "collapsed": false,
     "input": [
      "old_paintings = node_dict_by_type(old_castas)['Painting']"
     ],
     "language": "python",
     "metadata": {},
     "outputs": [
      {
       "output_type": "stream",
       "stream": "stdout",
       "text": [
        "\n"
       ]
      }
     ],
     "prompt_number": 37
    },
    {
     "cell_type": "code",
     "collapsed": false,
     "input": [
      "old_families = node_dict_by_type(old_castas)['Family']\n",
      "old_families[0]"
     ],
     "language": "python",
     "metadata": {},
     "outputs": [
      {
       "output_type": "stream",
       "stream": "stdout",
       "text": [
        "\n"
       ]
      },
      {
       "output_type": "pyout",
       "prompt_number": 45,
       "text": [
        "('16078',\n",
        " {'(Family) Identifier': u'',\n",
        "  '(Family) Note': u'De Indio y Albarazada, Chamizo',\n",
        "  '(Family) Title': u'De Indio y Albarazada, Chamizo',\n",
        "  '[Schema] Type': u'Family',\n",
        "  '[Schema] Type Id': u'834',\n",
        "  'label': 'De Indio y Albarazada, Chamizo'})"
       ]
      }
     ],
     "prompt_number": 45
    },
    {
     "cell_type": "code",
     "collapsed": false,
     "input": [
      "frame_type_id = new_node_type_id\n",
      "new_node_type_id = inc_id(new_node_type_id)\n",
      "\n",
      "family_type_id = old_families[0]['[Schema] Type Id']\n",
      "new_family_id = new_node_id\n",
      "new_node_id = inc_id(new_node_id)"
     ],
     "language": "python",
     "metadata": {},
     "outputs": []
    },
    {
     "cell_type": "code",
     "collapsed": false,
     "input": [
      "c=0\n",
      "for f in families:\n",
      "    if f[1]['(Family) Note'] == f[1]['(Family) Note']:\n",
      "        #print f['(Family) Identifier']\n",
      "        c+=1\n",
      "c"
     ],
     "language": "python",
     "metadata": {},
     "outputs": [
      {
       "output_type": "pyout",
       "prompt_number": 50,
       "text": [
        "115"
       ]
      }
     ],
     "prompt_number": 50
    },
    {
     "cell_type": "code",
     "collapsed": false,
     "input": [
      "def create_frame_and_family(painting, families):\n",
      "    ide = painting[0]\n",
      "    attrs = painting[1]\n",
      "    new_id = new_id(ide)\n",
      "    new_attrs = {}\n",
      "    new_attrs['[Schema] Type'] = u'Frame'\n",
      "    new_attrs['[Schema] Type Id'] = frame_type_id\n",
      "    new_attrs['(Frame) Name'] = attrs['(Painting) Name']\n",
      "    new_attrs['label'] = attrs['label']\n",
      "    new_castas.add_node(new_id, new_attrs)\n",
      "    \n",
      "    if len(families) == 1:\n",
      "        "
     ],
     "language": "python",
     "metadata": {},
     "outputs": [],
     "prompt_number": 39
    },
    {
     "cell_type": "code",
     "collapsed": false,
     "input": [
      "d = {}\n",
      "for painting in old_paintings:\n",
      "    ide = painting[0]\n",
      "    attrs = old_castas.node[ide]\n",
      "    neighbors = node_neighbor_list(\n",
      "        ide,\n",
      "        old_castas,\n",
      "        label='depicts',\n",
      "        typ='Family'\n",
      "    )\n",
      "    d[len(neighbors)] = d.get(len(neighbors), 0) + 1\n",
      "d"
     ],
     "language": "python",
     "metadata": {},
     "outputs": [
      {
       "output_type": "pyout",
       "prompt_number": 42,
       "text": [
        "{0: 37, 1: 356, 2: 2, 16: 1}"
       ]
      }
     ],
     "prompt_number": 42
    },
    {
     "cell_type": "code",
     "collapsed": false,
     "input": [
      "for painting in old_paintings:\n",
      "    ide = painting[0]\n",
      "    attrs = old_castas.node[ide]\n",
      "    neighbors = node_neighbor_list(\n",
      "        ide,\n",
      "        old_castas,\n",
      "        label='depicts',\n",
      "        typ='Family'\n",
      "    )\n",
      "    create_frame_and_family(painting, neighbors)\n",
      "        \n",
      "    ide = modify_node_id(painting[0])\n",
      "    attrs = painting[1]\n",
      "    attrs['[Schema] Type Id'] = modify_node_id(attrs['[Schema] Type Id'])\n",
      "    new_paintings.append((ide, attrs))"
     ],
     "language": "python",
     "metadata": {},
     "outputs": [
      {
       "ename": "NameError",
       "evalue": "global name 'new_node_type_id' is not defined",
       "output_type": "pyerr",
       "traceback": [
        "\u001b[0;31m---------------------------------------------------------------------------\u001b[0m\n\u001b[0;31mNameError\u001b[0m                                 Traceback (most recent call last)",
        "\u001b[0;32m<ipython-input-40-e0bdb67f3bac>\u001b[0m in \u001b[0;36m<module>\u001b[0;34m()\u001b[0m\n\u001b[1;32m      8\u001b[0m         \u001b[0mtyp\u001b[0m\u001b[0;34m=\u001b[0m\u001b[0;34m'Family'\u001b[0m\u001b[0;34m\u001b[0m\u001b[0m\n\u001b[1;32m      9\u001b[0m     )\n\u001b[0;32m---> 10\u001b[0;31m     \u001b[0mframes\u001b[0m \u001b[0;34m=\u001b[0m \u001b[0mcreate_frames\u001b[0m\u001b[0;34m(\u001b[0m\u001b[0mpainting\u001b[0m\u001b[0;34m,\u001b[0m \u001b[0mneighbors\u001b[0m\u001b[0;34m)\u001b[0m\u001b[0;34m\u001b[0m\u001b[0m\n\u001b[0m\u001b[1;32m     11\u001b[0m \u001b[0;34m\u001b[0m\u001b[0m\n\u001b[1;32m     12\u001b[0m     \u001b[0mide\u001b[0m \u001b[0;34m=\u001b[0m \u001b[0mmodify_node_id\u001b[0m\u001b[0;34m(\u001b[0m\u001b[0mpainting\u001b[0m\u001b[0;34m[\u001b[0m\u001b[0;36m0\u001b[0m\u001b[0;34m]\u001b[0m\u001b[0;34m)\u001b[0m\u001b[0;34m\u001b[0m\u001b[0m\n",
        "\u001b[0;32m<ipython-input-39-7a9c8f2d4ba8>\u001b[0m in \u001b[0;36mcreate_frames\u001b[0;34m(painting, neighbors)\u001b[0m\n\u001b[1;32m      8\u001b[0m     \u001b[0mnew_attrs\u001b[0m \u001b[0;34m=\u001b[0m \u001b[0;34m{\u001b[0m\u001b[0;34m}\u001b[0m\u001b[0;34m\u001b[0m\u001b[0m\n\u001b[1;32m      9\u001b[0m     \u001b[0mnew_attrs\u001b[0m\u001b[0;34m[\u001b[0m\u001b[0;34m'[Schema] Type'\u001b[0m\u001b[0;34m]\u001b[0m \u001b[0;34m=\u001b[0m \u001b[0;34mu'Frame'\u001b[0m\u001b[0;34m\u001b[0m\u001b[0m\n\u001b[0;32m---> 10\u001b[0;31m     \u001b[0mnew_attrs\u001b[0m\u001b[0;34m[\u001b[0m\u001b[0;34m'[Schema] Type Id'\u001b[0m\u001b[0;34m]\u001b[0m \u001b[0;34m=\u001b[0m \u001b[0mnew_node_type_id\u001b[0m\u001b[0;34m(\u001b[0m\u001b[0mattrs\u001b[0m\u001b[0;34m[\u001b[0m\u001b[0;34m'[Schema] Type Id'\u001b[0m\u001b[0;34m]\u001b[0m\u001b[0;34m)\u001b[0m\u001b[0;34m\u001b[0m\u001b[0m\n\u001b[0m\u001b[1;32m     11\u001b[0m     \u001b[0;32mif\u001b[0m \u001b[0mlen\u001b[0m\u001b[0;34m(\u001b[0m\u001b[0mneighbors\u001b[0m\u001b[0;34m)\u001b[0m \u001b[0;34m==\u001b[0m \u001b[0;36m0\u001b[0m\u001b[0;34m:\u001b[0m\u001b[0;34m\u001b[0m\u001b[0m\n\u001b[1;32m     12\u001b[0m         \u001b[0mnew_attrs\u001b[0m\u001b[0;34m[\u001b[0m\u001b[0;34m'(Frame) Name'\u001b[0m\u001b[0;34m]\u001b[0m \u001b[0;34m=\u001b[0m \u001b[0mattrs\u001b[0m\u001b[0;34m[\u001b[0m\u001b[0;34m'(Painting) Name'\u001b[0m\u001b[0;34m]\u001b[0m \u001b[0;34m+\u001b[0m \u001b[0;34m'_0'\u001b[0m\u001b[0;34m\u001b[0m\u001b[0m\n",
        "\u001b[0;31mNameError\u001b[0m: global name 'new_node_type_id' is not defined"
       ]
      }
     ],
     "prompt_number": 40
    },
    {
     "cell_type": "heading",
     "level": 3,
     "metadata": {},
     "source": [
      "1. Copying 'Painting' list"
     ]
    },
    {
     "cell_type": "code",
     "collapsed": false,
     "input": [
      "old_paintings = node_dict_by_type(old_castas)['Painting']"
     ],
     "language": "python",
     "metadata": {},
     "outputs": [
      {
       "output_type": "stream",
       "stream": "stdout",
       "text": [
        "\n"
       ]
      }
     ],
     "prompt_number": 5
    },
    {
     "cell_type": "code",
     "collapsed": false,
     "input": [
      "new_paintings = []\n",
      "for painting in old_paintings:\n",
      "    ide = modify_node_id(painting[0])\n",
      "    attrs = painting[1]\n",
      "    attrs['[Schema] Type Id'] = modify_node_id(attrs['[Schema] Type Id'])\n",
      "    new_paintings.append((ide, attrs))"
     ],
     "language": "python",
     "metadata": {},
     "outputs": [],
     "prompt_number": 6
    },
    {
     "cell_type": "heading",
     "level": 3,
     "metadata": {},
     "source": [
      "2. Converting 'Painting' -> 'Frame'"
     ]
    },
    {
     "cell_type": "code",
     "collapsed": false,
     "input": [
      "for painting in old_paintings:\n",
      "    node = painting[0]\n",
      "    attrs = old_castas.node[node]\n",
      "    new_attrs = {}\n",
      "    new_attrs['[Schema] Type'] = u'Frame'\n",
      "    new_attrs['[Schema] Type Id'] = attrs['[Schema] Type Id']\n",
      "    new_attrs['(Frame) Name'] = attrs['(Painting) Name']\n",
      "    new_attrs['label'] = attrs['label']\n",
      "    new_castas.node[node] = new_attrs"
     ],
     "language": "python",
     "metadata": {},
     "outputs": [],
     "prompt_number": 7
    },
    {
     "cell_type": "heading",
     "level": 3,
     "metadata": {},
     "source": [
      "3. Creating new class 'Painting'"
     ]
    },
    {
     "cell_type": "code",
     "collapsed": false,
     "input": [
      "new_castas.add_nodes_from(new_paintings)"
     ],
     "language": "python",
     "metadata": {},
     "outputs": [],
     "prompt_number": 8
    },
    {
     "cell_type": "heading",
     "level": 3,
     "metadata": {},
     "source": [
      "4. Relating new class 'Painting' to 'Frame'"
     ]
    },
    {
     "cell_type": "code",
     "collapsed": false,
     "input": [
      "for painting in new_paintings:\n",
      "    node1 = painting[0]\n",
      "    node2 = invert_id(node1)\n",
      "    attrs = {}\n",
      "    attrs['[Schema] Allowed Relationship'] = 'contains'\n",
      "    attrs['[Schema] Allowed Relationship Id'] = new_rel_type_id\n",
      "    attrs['id'] = new_rel_id\n",
      "    attrs['label'] = 'contains'\n",
      "    new_castas.add_edge(node1, node2, attrs)\n",
      "    new_rel_type_id = inc_id(new_rel_type_id)\n",
      "    new_rel_id = inc_id(new_rel_id)"
     ],
     "language": "python",
     "metadata": {},
     "outputs": [],
     "prompt_number": 11
    },
    {
     "cell_type": "heading",
     "level": 3,
     "metadata": {},
     "source": [
      "5. Modifying 'Creator-paints-Painting' relation"
     ]
    },
    {
     "cell_type": "code",
     "collapsed": false,
     "input": [
      "creators = node_dict_by_type(old_castas)['Creator']"
     ],
     "language": "python",
     "metadata": {},
     "outputs": [
      {
       "output_type": "stream",
       "stream": "stdout",
       "text": [
        "\n"
       ]
      }
     ],
     "prompt_number": 12
    },
    {
     "cell_type": "code",
     "collapsed": false,
     "input": [
      "for creator in creators:\n",
      "    node1 = creator[0]\n",
      "    relations = old_castas[node1]\n",
      "    for node2 in relations:\n",
      "        new_id = modify_node_id(node2)\n",
      "        new_castas.add_edge(node1, new_id)\n",
      "        new_castas[node1][new_id] = relations[node2]\n",
      "        new_castas.remove_edge(node1, node2)"
     ],
     "language": "python",
     "metadata": {},
     "outputs": [],
     "prompt_number": 13
    },
    {
     "cell_type": "heading",
     "level": 3,
     "metadata": {},
     "source": [
      "6. Creating new 'Family' nodes"
     ]
    },
    {
     "cell_type": "code",
     "collapsed": false,
     "input": [
      "old_families = node_dict_by_type(old_castas)['Family']"
     ],
     "language": "python",
     "metadata": {},
     "outputs": [
      {
       "output_type": "stream",
       "stream": "stdout",
       "text": [
        "\n"
       ]
      }
     ],
     "prompt_number": 14
    },
    {
     "cell_type": "code",
     "collapsed": false,
     "input": [
      "for family in old_families:\n",
      "    node = family[0]\n",
      "    new_castas.node[node]['[Schema] Type'] = 'Old_Family'"
     ],
     "language": "python",
     "metadata": {},
     "outputs": [],
     "prompt_number": 17
    },
    {
     "cell_type": "heading",
     "level": 3,
     "metadata": {},
     "source": [
      "??. Modifying 'Frame-depicts_fam-Family' relation"
     ]
    },
    {
     "cell_type": "code",
     "collapsed": false,
     "input": [
      "for n1, n2, attrs in new_castas.edges_iter(data=True):\n",
      "    if attrs['label'] == 'depicts' and new_castas.node[n1]['[Schema] Type'] == 'Frame' and new_castas.node[n2]['[Schema] Type'] == 'Family':\n",
      "        attrs['label'] = 'depicts_fam'\n",
      "        attrs['[Schema] Allowed Relationship'] = 'depicts_fam'\n",
      "        attrs['[Schema] Allowed Relationship Id'] = 'depicts_fam'"
     ],
     "language": "python",
     "metadata": {},
     "outputs": [],
     "prompt_number": 16
    },
    {
     "cell_type": "heading",
     "level": 2,
     "metadata": {},
     "source": [
      "Exporting to Sylva"
     ]
    },
    {
     "cell_type": "heading",
     "level": 3,
     "metadata": {},
     "source": [
      "1. Remove 'label' from relations"
     ]
    },
    {
     "cell_type": "code",
     "collapsed": false,
     "input": [
      "aux_castas = new_castas.copy()\n",
      "for n1, n2, attrs in new_castas.edges_iter(data=True):\n",
      "    if 'label' in attrs:\n",
      "        del attrs['label']\n",
      "nx.write_gexf(new_castas, 'aux1_castas.gexf')"
     ],
     "language": "python",
     "metadata": {},
     "outputs": [],
     "prompt_number": 16
    },
    {
     "cell_type": "heading",
     "level": 3,
     "metadata": {},
     "source": [
      "2. Get node and relation ids"
     ]
    },
    {
     "cell_type": "code",
     "collapsed": false,
     "input": [
      "import codecs\n",
      "import re\n",
      "\n",
      "id_re = r'id=\"(?P<id>\\d+)\"'\n",
      "id_comp = re.compile(id_re)\n",
      "def get_id(line):\n",
      "    result = id_comp.search(line)\n",
      "    ide = result.group('id')\n",
      "    return ide\n",
      "\n",
      "title_re = r'title=\"(?P<title>[\\[\\]\\(\\)\\s\\w]+)\"'\n",
      "title_comp = re.compile(title_re)\n",
      "def get_title(line):\n",
      "    result = title_comp.search(line)\n",
      "    title = result.group('title')\n",
      "    return title"
     ],
     "language": "python",
     "metadata": {},
     "outputs": [],
     "prompt_number": 17
    },
    {
     "cell_type": "code",
     "collapsed": false,
     "input": [
      "node_type = None\n",
      "node_type_id = None\n",
      "relation_type = None\n",
      "relation_type_id = None \n",
      "node_ids = []\n",
      "relation_ids = []\n",
      "states = [] # node, edge, end-node, end-edge"
     ],
     "language": "python",
     "metadata": {},
     "outputs": [],
     "prompt_number": 18
    },
    {
     "cell_type": "code",
     "collapsed": false,
     "input": [
      "aux1_castas_file = codecs.open('aux1_castas.gexf', 'r', 'utf-8')\n",
      "for line in aux1_castas_file:\n",
      "    line = line.strip()\n",
      "    if line.startswith('<attributes class=\"node\"'):\n",
      "        states.append('node')\n",
      "    elif line.startswith('<attributes class=\"edge\"'):\n",
      "        states.append('edge')\n",
      "    elif line == '</attributes>':\n",
      "        if 'node' in states:\n",
      "            states.remove('node')\n",
      "            states.append('end-node')\n",
      "        elif 'edge' in states:\n",
      "            states.remove('edge')\n",
      "            states.append('end-edge')\n",
      "        if 'end-node' in states and 'end-edge' in states:\n",
      "            break;\n",
      "    elif line.startswith('<attribute id=\"'):\n",
      "        ide = get_id(line)\n",
      "        title = get_title(line)\n",
      "        if title == '[Schema] Type':\n",
      "            node_type = ide\n",
      "        elif title == '[Schema] Type Id':\n",
      "            node_type_id = ide\n",
      "        elif title == '[Schema] Allowed Relationship':\n",
      "            relation_type = ide\n",
      "        elif title == '[Schema] Allowed Relationship Id':\n",
      "            relation_type_id = ide\n",
      "        else:\n",
      "            if 'node' in states:\n",
      "                node_ids.append(ide)\n",
      "            elif 'edge' in states:\n",
      "                relation_ids.append(ide)\n",
      "aux1_castas_file.close()"
     ],
     "language": "python",
     "metadata": {},
     "outputs": [],
     "prompt_number": 19
    },
    {
     "cell_type": "heading",
     "level": 3,
     "metadata": {},
     "source": [
      "3. Write new node and relation ids"
     ]
    },
    {
     "cell_type": "code",
     "collapsed": false,
     "input": [
      "aux1_castas_file = codecs.open('aux1_castas.gexf', 'r', 'utf-8')\n",
      "content = aux1_castas_file.read()\n",
      "old = '\"' + node_type + '\"'\n",
      "new = '\"NodeType\"'\n",
      "content = content.replace(old, new)\n",
      "old = '\"' + node_type_id + '\"'\n",
      "new = '\"NodeTypeId\"'\n",
      "content = content.replace(old, new)\n",
      "old = '\"' + relation_type + '\"'\n",
      "new = '\"RelationshipType\"'\n",
      "content = content.replace(old, new)\n",
      "old = '\"' + relation_type_id + '\"'\n",
      "new = '\"RelationshipTypeId\"'\n",
      "content = content.replace(old, new)\n",
      "for ide in node_ids:\n",
      "    old = '\"' + ide + '\"'\n",
      "    new = '\"n' + ide + '\"'\n",
      "    content = content.replace(old, new)\n",
      "for ide in relation_ids:\n",
      "    old = '\"' + ide + '\"'\n",
      "    new = '\"r' + ide + '\"'\n",
      "    content = content.replace(old, new)\n",
      "aux1_castas_file.close()"
     ],
     "language": "python",
     "metadata": {},
     "outputs": [],
     "prompt_number": 20
    },
    {
     "cell_type": "code",
     "collapsed": false,
     "input": [
      "aux2_castas_file = codecs.open('aux2_castas.gexf', 'w', 'utf-8')\n",
      "aux2_castas_file.write(content)\n",
      "aux2_castas_file.close()"
     ],
     "language": "python",
     "metadata": {},
     "outputs": [],
     "prompt_number": 21
    },
    {
     "cell_type": "heading",
     "level": 3,
     "metadata": {},
     "source": [
      "4. Adding 'type' nodes and edges in XML"
     ]
    },
    {
     "cell_type": "code",
     "collapsed": false,
     "input": [
      "source_re = r'source=\"(?P<source>\\d+)\"'\n",
      "source_comp = re.compile(source_re)\n",
      "def get_source(line):\n",
      "    result = source_comp.search(line)\n",
      "    source = result.group('source')\n",
      "    return source\n",
      "\n",
      "target_re = r'target=\"(?P<target>\\d+)\"'\n",
      "target_comp = re.compile(target_re)\n",
      "def get_target(line):\n",
      "    result = target_comp.search(line)\n",
      "    target = result.group('target')\n",
      "    return target"
     ],
     "language": "python",
     "metadata": {},
     "outputs": [],
     "prompt_number": 22
    },
    {
     "cell_type": "code",
     "collapsed": false,
     "input": [
      "content = ''\n",
      "aux2_castas_file = codecs.open('aux2_castas.gexf', 'r', 'utf-8')\n",
      "for line in aux2_castas_file:\n",
      "    if '<node id=\"' in line:\n",
      "        ide = get_id(line)\n",
      "        typ = new_castas.node[ide]['[Schema] Type']\n",
      "        new_line = line[:-2] + ' type=\"' + typ + '\"' + line[-2:]\n",
      "    elif '<edge id=\"' in line:\n",
      "        source = get_source(line)\n",
      "        target = get_target(line)\n",
      "        label = aux_castas[source][target]['label']\n",
      "        new_line = line[:-2] + ' label=\"' + label + '\"' + line[-2:]\n",
      "    else:\n",
      "        new_line = line\n",
      "    content += new_line\n",
      "aux2_castas_file.close()"
     ],
     "language": "python",
     "metadata": {},
     "outputs": [],
     "prompt_number": 23
    },
    {
     "cell_type": "code",
     "collapsed": false,
     "input": [
      "aux3_castas_file = codecs.open('new_castas.gexf', 'w', 'utf-8')\n",
      "aux3_castas_file.write(content)\n",
      "aux3_castas_file.close()"
     ],
     "language": "python",
     "metadata": {},
     "outputs": [],
     "prompt_number": 24
    },
    {
     "cell_type": "code",
     "collapsed": false,
     "input": [
      "cont=0\n",
      "paintings = node_dict_by_type(old_castas)['Painting']\n",
      "for painting in paintings:\n",
      "    family_neighbors = node_neighbor_list(\n",
      "        painting[0],\n",
      "        castas,\n",
      "        typ='Family',\n",
      "    )\n",
      "    if len(family_neighbors) != 1:\n",
      "        print len(family_neighbors)\n",
      "    else:\n",
      "        cont+=1\n",
      "print cont"
     ],
     "language": "python",
     "metadata": {},
     "outputs": [
      {
       "ename": "NameError",
       "evalue": "name 'node_neighbor_list' is not defined",
       "output_type": "pyerr",
       "traceback": [
        "\u001b[0;31m---------------------------------------------------------------------------\u001b[0m\n\u001b[0;31mNameError\u001b[0m                                 Traceback (most recent call last)",
        "\u001b[0;32m<ipython-input-19-18d7c9af4664>\u001b[0m in \u001b[0;36m<module>\u001b[0;34m()\u001b[0m\n\u001b[1;32m      2\u001b[0m \u001b[0mpaintings\u001b[0m \u001b[0;34m=\u001b[0m \u001b[0mnode_dict_by_type\u001b[0m\u001b[0;34m(\u001b[0m\u001b[0mold_castas\u001b[0m\u001b[0;34m)\u001b[0m\u001b[0;34m[\u001b[0m\u001b[0;34m'Painting'\u001b[0m\u001b[0;34m]\u001b[0m\u001b[0;34m\u001b[0m\u001b[0m\n\u001b[1;32m      3\u001b[0m \u001b[0;32mfor\u001b[0m \u001b[0mpainting\u001b[0m \u001b[0;32min\u001b[0m \u001b[0mpaintings\u001b[0m\u001b[0;34m:\u001b[0m\u001b[0;34m\u001b[0m\u001b[0m\n\u001b[0;32m----> 4\u001b[0;31m     family_neighbors = node_neighbor_list(\n\u001b[0m\u001b[1;32m      5\u001b[0m         \u001b[0mpainting\u001b[0m\u001b[0;34m[\u001b[0m\u001b[0;36m0\u001b[0m\u001b[0;34m]\u001b[0m\u001b[0;34m,\u001b[0m\u001b[0;34m\u001b[0m\u001b[0m\n\u001b[1;32m      6\u001b[0m         \u001b[0mcastas\u001b[0m\u001b[0;34m,\u001b[0m\u001b[0;34m\u001b[0m\u001b[0m\n",
        "\u001b[0;31mNameError\u001b[0m: name 'node_neighbor_list' is not defined"
       ]
      },
      {
       "output_type": "stream",
       "stream": "stdout",
       "text": [
        "\n"
       ]
      }
     ],
     "prompt_number": 19
    },
    {
     "cell_type": "code",
     "collapsed": false,
     "input": [],
     "language": "python",
     "metadata": {},
     "outputs": []
    }
   ],
   "metadata": {}
  }
 ]
}