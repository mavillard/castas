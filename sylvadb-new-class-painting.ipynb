{
 "metadata": {
  "name": "sylvadb-new-class-painting"
 },
 "nbformat": 3,
 "nbformat_minor": 0,
 "worksheets": [
  {
   "cells": [
    {
     "cell_type": "heading",
     "level": 2,
     "metadata": {},
     "source": [
      "Preliminaries"
     ]
    },
    {
     "cell_type": "code",
     "collapsed": false,
     "input": [
      "import networkx as nx"
     ],
     "language": "python",
     "metadata": {},
     "outputs": [],
     "prompt_number": 1
    },
    {
     "cell_type": "code",
     "collapsed": false,
     "input": [
      "def modify_node_id(s):\n",
      "    return '9' + s\n",
      "\n",
      "def modify_rel_id(n):\n",
      "    return int('8' + str(n))\n",
      "\n",
      "def modify_rel_type_id(n):\n",
      "    return int('7' + str(n))\n",
      "\n",
      "def invert_id(s):\n",
      "    return s[1:]\n",
      "\n",
      "def inc_id(s):\n",
      "    return str(int(s) + 1)"
     ],
     "language": "python",
     "metadata": {},
     "outputs": [],
     "prompt_number": 2
    },
    {
     "cell_type": "code",
     "collapsed": false,
     "input": [
      "def node_dict_by_type(nbunch):\n",
      "    nodes = {}\n",
      "    print nbunch\n",
      "    if type(nbunch) == nx.classes.multidigraph.DiGraph:\n",
      "        nbunch = nbunch.nodes_iter(data=True)\n",
      "    for node, attrs in nbunch:\n",
      "        node_type = attrs[u'[Schema] Type']\n",
      "        nodes.setdefault(node_type, [])\n",
      "        nodes[node_type].append((node, attrs))\n",
      "    return nodes"
     ],
     "language": "python",
     "metadata": {},
     "outputs": [],
     "prompt_number": 3
    },
    {
     "cell_type": "code",
     "collapsed": false,
     "input": [
      "old_castas = nx.read_gexf('castas.gexf')\n",
      "new_castas = nx.read_gexf('castas.gexf')"
     ],
     "language": "python",
     "metadata": {},
     "outputs": [],
     "prompt_number": 4
    },
    {
     "cell_type": "heading",
     "level": 2,
     "metadata": {},
     "source": [
      "Modifying graph"
     ]
    },
    {
     "cell_type": "heading",
     "level": 3,
     "metadata": {},
     "source": [
      "1. Copying 'Painting' list"
     ]
    },
    {
     "cell_type": "code",
     "collapsed": false,
     "input": [
      "old_paintings = node_dict_by_type(old_castas)['Painting']"
     ],
     "language": "python",
     "metadata": {},
     "outputs": [
      {
       "output_type": "stream",
       "stream": "stdout",
       "text": [
        "\n"
       ]
      }
     ],
     "prompt_number": 5
    },
    {
     "cell_type": "code",
     "collapsed": false,
     "input": [
      "new_paintings = []\n",
      "for painting in old_paintings:\n",
      "    ide = modify_node_id(painting[0])\n",
      "    attrs = painting[1]\n",
      "    attrs['[Schema] Type Id'] = modify_node_id(attrs['[Schema] Type Id'])\n",
      "    new_paintings.append((ide, attrs))"
     ],
     "language": "python",
     "metadata": {},
     "outputs": [],
     "prompt_number": 6
    },
    {
     "cell_type": "heading",
     "level": 3,
     "metadata": {},
     "source": [
      "2. Converting 'Painting' -> 'Frame'"
     ]
    },
    {
     "cell_type": "code",
     "collapsed": false,
     "input": [
      "for painting in old_paintings:\n",
      "    node = painting[0]\n",
      "    attrs = old_castas.node[node]\n",
      "    new_attrs = {}\n",
      "    new_attrs['[Schema] Type'] = u'Frame'\n",
      "    new_attrs['[Schema] Type Id'] = attrs['[Schema] Type Id']\n",
      "    new_attrs['(Frame) Name'] = attrs['(Painting) Name']\n",
      "    new_attrs['label'] = attrs['label']\n",
      "    new_castas.node[node] = new_attrs"
     ],
     "language": "python",
     "metadata": {},
     "outputs": [],
     "prompt_number": 7
    },
    {
     "cell_type": "heading",
     "level": 3,
     "metadata": {},
     "source": [
      "3. Creating new class 'Painting'"
     ]
    },
    {
     "cell_type": "code",
     "collapsed": false,
     "input": [
      "new_castas.add_nodes_from(new_paintings)"
     ],
     "language": "python",
     "metadata": {},
     "outputs": [],
     "prompt_number": 8
    },
    {
     "cell_type": "heading",
     "level": 3,
     "metadata": {},
     "source": [
      "4. Relating new class 'Painting' to 'Frame'"
     ]
    },
    {
     "cell_type": "code",
     "collapsed": false,
     "input": [
      "rel_ids = sorted(map(lambda x: int(x[2]['id']), old_castas.edges(data=True)))\n",
      "greatest_rel_id = rel_ids[-1]\n",
      "new_rel_id = modify_rel_id(greatest_rel_id)\n",
      "new_rel_id = inc_id(new_rel_id)"
     ],
     "language": "python",
     "metadata": {},
     "outputs": [],
     "prompt_number": 9
    },
    {
     "cell_type": "code",
     "collapsed": false,
     "input": [
      "rel_type_ids = sorted(map(lambda x: int(x[2]['[Schema] Allowed Relationship Id']), old_castas.edges(data=True)))\n",
      "greatest_rel_type_id = rel_type_ids[-1]\n",
      "new_rel_type_id = modify_rel_type_id(greatest_rel_type_id)\n",
      "new_rel_type_id = inc_id(new_rel_type_id)"
     ],
     "language": "python",
     "metadata": {},
     "outputs": [],
     "prompt_number": 10
    },
    {
     "cell_type": "code",
     "collapsed": false,
     "input": [
      "for painting in new_paintings:\n",
      "    node1 = painting[0]\n",
      "    node2 = invert_id(node1)\n",
      "    attrs = {}\n",
      "    attrs['[Schema] Allowed Relationship'] = 'contains'\n",
      "    attrs['[Schema] Allowed Relationship Id'] = new_rel_type_id\n",
      "    attrs['id'] = new_rel_id\n",
      "    attrs['label'] = 'contains'\n",
      "    new_castas.add_edge(node1, node2, attrs)\n",
      "    new_rel_type_id = inc_id(new_rel_type_id)\n",
      "    new_rel_id = inc_id(new_rel_id)"
     ],
     "language": "python",
     "metadata": {},
     "outputs": [],
     "prompt_number": 11
    },
    {
     "cell_type": "heading",
     "level": 3,
     "metadata": {},
     "source": [
      "5. Modifying 'Creator-paints-Painting' relation"
     ]
    },
    {
     "cell_type": "code",
     "collapsed": false,
     "input": [
      "creators = node_dict_by_type(old_castas)['Creator']"
     ],
     "language": "python",
     "metadata": {},
     "outputs": [
      {
       "output_type": "stream",
       "stream": "stdout",
       "text": [
        "\n"
       ]
      }
     ],
     "prompt_number": 12
    },
    {
     "cell_type": "code",
     "collapsed": false,
     "input": [
      "for creator in creators:\n",
      "    node1 = creator[0]\n",
      "    relations = old_castas[node1]\n",
      "    for node2 in relations:\n",
      "        new_id = modify_node_id(node2)\n",
      "        new_castas.add_edge(node1, new_id)\n",
      "        new_castas[node1][new_id] = relations[node2]\n",
      "        new_castas.remove_edge(node1, node2)"
     ],
     "language": "python",
     "metadata": {},
     "outputs": [],
     "prompt_number": 13
    },
    {
     "cell_type": "heading",
     "level": 3,
     "metadata": {},
     "source": [
      "6. Modifying 'Frame-depicts_fam-Family' relation"
     ]
    },
    {
     "cell_type": "code",
     "collapsed": false,
     "input": [
      "for n1, n2, attrs in new_castas.edges_iter(data=True):\n",
      "    if attrs['label'] == 'depicts' and new_castas.node[n1]['[Schema] Type'] == 'Frame' and new_castas.node[n2]['[Schema] Type'] == 'Family':\n",
      "        attrs['label'] = 'depicts_fam'\n",
      "        attrs['[Schema] Allowed Relationship'] = 'depicts_fam'\n",
      "        attrs['[Schema] Allowed Relationship Id'] = 'depicts_fam'"
     ],
     "language": "python",
     "metadata": {},
     "outputs": [],
     "prompt_number": 16
    },
    {
     "cell_type": "heading",
     "level": 2,
     "metadata": {},
     "source": [
      "Exporting to Sylva"
     ]
    },
    {
     "cell_type": "heading",
     "level": 3,
     "metadata": {},
     "source": [
      "1. Remove 'label' from relations"
     ]
    },
    {
     "cell_type": "code",
     "collapsed": false,
     "input": [
      "aux_castas = new_castas.copy()\n",
      "for n1, n2, attrs in new_castas.edges_iter(data=True):\n",
      "    if 'label' in attrs:\n",
      "        del attrs['label']\n",
      "nx.write_gexf(new_castas, 'aux1_castas.gexf')"
     ],
     "language": "python",
     "metadata": {},
     "outputs": [],
     "prompt_number": 16
    },
    {
     "cell_type": "heading",
     "level": 3,
     "metadata": {},
     "source": [
      "2. Get node and relation ids"
     ]
    },
    {
     "cell_type": "code",
     "collapsed": false,
     "input": [
      "import codecs\n",
      "import re\n",
      "\n",
      "id_re = r'id=\"(?P<id>\\d+)\"'\n",
      "id_comp = re.compile(id_re)\n",
      "def get_id(line):\n",
      "    result = id_comp.search(line)\n",
      "    ide = result.group('id')\n",
      "    return ide\n",
      "\n",
      "title_re = r'title=\"(?P<title>[\\[\\]\\(\\)\\s\\w]+)\"'\n",
      "title_comp = re.compile(title_re)\n",
      "def get_title(line):\n",
      "    result = title_comp.search(line)\n",
      "    title = result.group('title')\n",
      "    return title"
     ],
     "language": "python",
     "metadata": {},
     "outputs": [],
     "prompt_number": 17
    },
    {
     "cell_type": "code",
     "collapsed": false,
     "input": [
      "node_type = None\n",
      "node_type_id = None\n",
      "relation_type = None\n",
      "relation_type_id = None \n",
      "node_ids = []\n",
      "relation_ids = []\n",
      "states = [] # node, edge, end-node, end-edge"
     ],
     "language": "python",
     "metadata": {},
     "outputs": [],
     "prompt_number": 18
    },
    {
     "cell_type": "code",
     "collapsed": false,
     "input": [
      "aux1_castas_file = codecs.open('aux1_castas.gexf', 'r', 'utf-8')\n",
      "for line in aux1_castas_file:\n",
      "    line = line.strip()\n",
      "    if line.startswith('<attributes class=\"node\"'):\n",
      "        states.append('node')\n",
      "    elif line.startswith('<attributes class=\"edge\"'):\n",
      "        states.append('edge')\n",
      "    elif line == '</attributes>':\n",
      "        if 'node' in states:\n",
      "            states.remove('node')\n",
      "            states.append('end-node')\n",
      "        elif 'edge' in states:\n",
      "            states.remove('edge')\n",
      "            states.append('end-edge')\n",
      "        if 'end-node' in states and 'end-edge' in states:\n",
      "            break;\n",
      "    elif line.startswith('<attribute id=\"'):\n",
      "        ide = get_id(line)\n",
      "        title = get_title(line)\n",
      "        if title == '[Schema] Type':\n",
      "            node_type = ide\n",
      "        elif title == '[Schema] Type Id':\n",
      "            node_type_id = ide\n",
      "        elif title == '[Schema] Allowed Relationship':\n",
      "            relation_type = ide\n",
      "        elif title == '[Schema] Allowed Relationship Id':\n",
      "            relation_type_id = ide\n",
      "        else:\n",
      "            if 'node' in states:\n",
      "                node_ids.append(ide)\n",
      "            elif 'edge' in states:\n",
      "                relation_ids.append(ide)\n",
      "aux1_castas_file.close()"
     ],
     "language": "python",
     "metadata": {},
     "outputs": [],
     "prompt_number": 19
    },
    {
     "cell_type": "heading",
     "level": 3,
     "metadata": {},
     "source": [
      "3. Write new node and relation ids"
     ]
    },
    {
     "cell_type": "code",
     "collapsed": false,
     "input": [
      "aux1_castas_file = codecs.open('aux1_castas.gexf', 'r', 'utf-8')\n",
      "content = aux1_castas_file.read()\n",
      "old = '\"' + node_type + '\"'\n",
      "new = '\"NodeType\"'\n",
      "content = content.replace(old, new)\n",
      "old = '\"' + node_type_id + '\"'\n",
      "new = '\"NodeTypeId\"'\n",
      "content = content.replace(old, new)\n",
      "old = '\"' + relation_type + '\"'\n",
      "new = '\"RelationshipType\"'\n",
      "content = content.replace(old, new)\n",
      "old = '\"' + relation_type_id + '\"'\n",
      "new = '\"RelationshipTypeId\"'\n",
      "content = content.replace(old, new)\n",
      "for ide in node_ids:\n",
      "    old = '\"' + ide + '\"'\n",
      "    new = '\"n' + ide + '\"'\n",
      "    content = content.replace(old, new)\n",
      "for ide in relation_ids:\n",
      "    old = '\"' + ide + '\"'\n",
      "    new = '\"r' + ide + '\"'\n",
      "    content = content.replace(old, new)\n",
      "aux1_castas_file.close()"
     ],
     "language": "python",
     "metadata": {},
     "outputs": [],
     "prompt_number": 20
    },
    {
     "cell_type": "code",
     "collapsed": false,
     "input": [
      "aux2_castas_file = codecs.open('aux2_castas.gexf', 'w', 'utf-8')\n",
      "aux2_castas_file.write(content)\n",
      "aux2_castas_file.close()"
     ],
     "language": "python",
     "metadata": {},
     "outputs": [],
     "prompt_number": 21
    },
    {
     "cell_type": "heading",
     "level": 3,
     "metadata": {},
     "source": [
      "4. Adding 'type' nodes and edges in XML"
     ]
    },
    {
     "cell_type": "code",
     "collapsed": false,
     "input": [
      "source_re = r'source=\"(?P<source>\\d+)\"'\n",
      "source_comp = re.compile(source_re)\n",
      "def get_source(line):\n",
      "    result = source_comp.search(line)\n",
      "    source = result.group('source')\n",
      "    return source\n",
      "\n",
      "target_re = r'target=\"(?P<target>\\d+)\"'\n",
      "target_comp = re.compile(target_re)\n",
      "def get_target(line):\n",
      "    result = target_comp.search(line)\n",
      "    target = result.group('target')\n",
      "    return target"
     ],
     "language": "python",
     "metadata": {},
     "outputs": [],
     "prompt_number": 22
    },
    {
     "cell_type": "code",
     "collapsed": false,
     "input": [
      "content = ''\n",
      "aux2_castas_file = codecs.open('aux2_castas.gexf', 'r', 'utf-8')\n",
      "for line in aux2_castas_file:\n",
      "    if '<node id=\"' in line:\n",
      "        ide = get_id(line)\n",
      "        typ = new_castas.node[ide]['[Schema] Type']\n",
      "        new_line = line[:-2] + ' type=\"' + typ + '\"' + line[-2:]\n",
      "    elif '<edge id=\"' in line:\n",
      "        source = get_source(line)\n",
      "        target = get_target(line)\n",
      "        label = aux_castas[source][target]['label']\n",
      "        new_line = line[:-2] + ' label=\"' + label + '\"' + line[-2:]\n",
      "    else:\n",
      "        new_line = line\n",
      "    content += new_line\n",
      "aux2_castas_file.close()"
     ],
     "language": "python",
     "metadata": {},
     "outputs": [],
     "prompt_number": 23
    },
    {
     "cell_type": "code",
     "collapsed": false,
     "input": [
      "aux3_castas_file = codecs.open('new_castas.gexf', 'w', 'utf-8')\n",
      "aux3_castas_file.write(content)\n",
      "aux3_castas_file.close()"
     ],
     "language": "python",
     "metadata": {},
     "outputs": [],
     "prompt_number": 24
    },
    {
     "cell_type": "code",
     "collapsed": false,
     "input": [],
     "language": "python",
     "metadata": {},
     "outputs": []
    }
   ],
   "metadata": {}
  }
 ]
}